{
 "cells": [
  {
   "cell_type": "code",
   "execution_count": 3,
   "id": "fd5ef73e",
   "metadata": {},
   "outputs": [],
   "source": [
    "input_file = r\"e:\\NLP\\data\\dataset\\hi\\lexicons\\test.tsv\"\n",
    "output_file = r\"e:\\NLP\\data\\dataset\\hi\\lexicons\\test_new.tsv\"\n",
    "\n",
    "with open(input_file, \"r\", encoding=\"utf-8\") as fin, open(output_file, \"w\", encoding=\"utf-8\") as fout:\n",
    "    for line in fin:\n",
    "        parts = line.rstrip(\"\\n\").split(\"\\t\")\n",
    "        if len(parts) >= 2:\n",
    "            fout.write(\"\\t\".join(parts[:2]) + \"\\n\")"
   ]
  },
  {
   "cell_type": "code",
   "execution_count": null,
   "id": "08f5b1af",
   "metadata": {},
   "outputs": [],
   "source": []
  }
 ],
 "metadata": {
  "kernelspec": {
   "display_name": "Python 3",
   "language": "python",
   "name": "python3"
  },
  "language_info": {
   "codemirror_mode": {
    "name": "ipython",
    "version": 3
   },
   "file_extension": ".py",
   "mimetype": "text/x-python",
   "name": "python",
   "nbconvert_exporter": "python",
   "pygments_lexer": "ipython3",
   "version": "3.13.3"
  }
 },
 "nbformat": 4,
 "nbformat_minor": 5
}
